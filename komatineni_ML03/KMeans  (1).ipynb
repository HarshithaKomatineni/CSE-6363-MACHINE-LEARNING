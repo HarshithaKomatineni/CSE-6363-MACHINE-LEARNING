{
 "cells": [
  {
   "cell_type": "code",
   "execution_count": 1,
   "metadata": {},
   "outputs": [],
   "source": [
    "# Import the numpy library\n",
    "import numpy as np\n",
    "import pandas as pd\n",
    "import matplotlib.pyplot as plt\n",
    "%matplotlib inline "
   ]
  },
  {
   "cell_type": "code",
   "execution_count": 2,
   "metadata": {},
   "outputs": [],
   "source": [
    "# define the Kmeans class\n",
    "class Kmeans:\n",
    "    def __init__(self, n_clusters=2, max_iter=100, random_state=0):\n",
    "        self.n_clusters = n_clusters\n",
    "        self.max_iter = max_iter\n",
    "        self.random_state = random_state\n",
    "    \n",
    "    # Initialize the centroids\n",
    "    def place_random_centroids(self, X): \n",
    "        random_idx = np.random.RandomState(self.random_state).permutation(X.shape[0]) # Randomly permute a sequence\n",
    "        centroids = X[random_idx[:self.n_clusters]] # picks the first n_clusters and \n",
    "        # finds their value in X\n",
    "        return centroids\n",
    "\n",
    "    # Compute the average for creating new centroids\n",
    "    def compute_average(self, X, labels):\n",
    "        centroids = np.zeros((self.n_clusters, X.shape[1]))\n",
    "        for k in range(self.n_clusters):\n",
    "            centroids[k, :] = np.mean(X[labels == k, :], axis=0) \n",
    "        return centroids\n",
    "\n",
    "    # Calculate the euclidean distance between two data points\n",
    "    def euclidean_distance(self, X, centroids):\n",
    "        distance = np.zeros((X.shape[0], self.n_clusters))\n",
    "        for k in range(self.n_clusters):\n",
    "            row_norm = np.linalg.norm(X - centroids[k, :], axis=1)\n",
    "            distance[:, k] = np.square(row_norm)\n",
    "        return distance\n",
    "    \n",
    "    # Find the closest clusters based on the calculated distances\n",
    "    def find_closest_cluster(self, distance):\n",
    "        # argmin Returns the indices of the minimum values along an axis.\n",
    "        labels = np.argmin(distance, axis=1)\n",
    "        return labels\n",
    "\n",
    "    # Sum of squared distance (ssd)\n",
    "    def compute_ssd(self, X, labels, centroids):\n",
    "        distance = np.zeros(X.shape[0])\n",
    "        for k in range(self.n_clusters):\n",
    "            distance[labels == k] = np.linalg.norm(X[labels == k] - centroids[k], axis=1)\n",
    "        return np.sum(np.square(distance))\n",
    "\n",
    "    # Putting it all together in the fit function\n",
    "    def fit(self, X):\n",
    "        # start with random centroids\n",
    "        self.centroids = self.place_random_centroids(X)\n",
    "        for i in range(self.max_iter):\n",
    "            old_centroids = self.centroids\n",
    "            distance = self.euclidean_distance(X, old_centroids)\n",
    "            self.labels = self.find_closest_cluster(distance)\n",
    "            self.centroids = self.compute_average(X, self.labels)\n",
    "            if np.all(old_centroids == self.centroids): # checks if they have changed\n",
    "                break\n",
    "        self.error = self.compute_ssd(X, self.labels, self.centroids)\n",
    "        return self.error, self.centroids, self.labels\n",
    "\n",
    "    def predict(self, X):\n",
    "        distance = self.euclidean_distance(X, old_centroids)\n",
    "        labels = self.find_closest_cluster(distance)\n",
    "        return labels          "
   ]
  },
  {
   "cell_type": "code",
   "execution_count": 3,
   "metadata": {},
   "outputs": [],
   "source": [
    "def find_k(X,K_start=1, K_end=5):\n",
    "    ssd_list = []\n",
    "    K_list = []\n",
    "    for k in range(K_start, K_end):\n",
    "        K_list.append(k)\n",
    "        kmeanModel = Kmeans(n_clusters=k)    \n",
    "        error, centroids, labels = kmeanModel.fit(X)\n",
    "        ssd = kmeanModel.compute_ssd(X_scaled,labels,centroids)\n",
    "        ssd_list.append(ssd)\n",
    "    plt.figure(figsize=(16,5))\n",
    "    plt.plot(K_list, ssd_list, 'rx-')\n",
    "    plt.xlabel('No. of Clusters')\n",
    "    plt.ylabel('Sum of squared distances')\n",
    "    plt.title('Finding optimal k using elbow method')\n",
    "    plt.show()"
   ]
  },
  {
   "cell_type": "code",
   "execution_count": 7,
   "metadata": {},
   "outputs": [
    {
     "data": {
      "image/png": "[encoded data removed]",
      "text/plain": [
       "<Figure size 1152x360 with 1 Axes>"
      ]
     },
     "metadata": {
      "needs_background": "light"
     },
     "output_type": "display_data"
    }
   ],
   "source": [
    "# import the data\n",
    "import pandas as pd\n",
    "iris_data = pd.read_csv(\"iris (4).data\", header = None)\n",
    "\n",
    "# Separate X and y\n",
    "X = np.array(iris_data.drop([iris_data.columns[-1]], axis = 1))\n",
    "y = np.array(iris_data[iris_data.columns[-1]])\n",
    "\n",
    "# Scaling X\n",
    "X_scaled = (X - np.mean(X, axis= 0))/np.std(X, axis = 0)\n",
    "# Determining number of clusters given a range from 1 to 11\n",
    "find_k(X_scaled,1,11)\n",
    "\n",
    "# Defining the KMeans model with the required number of clusters\n",
    "model = Kmeans(n_clusters=3)\n",
    "error, centroids, labels = model.fit(X_scaled)"
   ]
  },
  {
   "cell_type": "code",
   "execution_count": 8,
   "metadata": {
    "scrolled": true
   },
   "outputs": [
    {
     "name": "stdout",
     "output_type": "stream",
     "text": [
      "Class Iris-setosa is labelled as class 2 after Kmeans clustering algorithm\n",
      "Class Iris-versicolor is labelled as class 1 after Kmeans clustering algorithm\n",
      "Class Iris-virginica is labelled as class 0 after Kmeans clustering algorithm\n",
      "Accuracy = 85.33%\n"
     ]
    }
   ],
   "source": [
    "# Evaluation of the Kmeans Algorithm\n",
    "true_labels = y\n",
    "pred_labels = labels\n",
    "num_correct = 0\n",
    "collector = {}\n",
    "for i in np.unique(y):\n",
    "    collector[i] = {}\n",
    "    for j in range(3):\n",
    "        collector[i][j] = []\n",
    "for i in range(true_labels.shape[0]):\n",
    "    collector[true_labels[i]][pred_labels[i]].append(1)\n",
    "for i in np.unique(y):\n",
    "    temp = -1\n",
    "    for j in range(len(collector[i])):\n",
    "        temp = max(temp,len(collector[i][j]))\n",
    "        if temp == len(collector[i][j]):\n",
    "            cluster_class = j\n",
    "    print(\"Class {} is labelled as class {} after Kmeans clustering algorithm\".format(i,cluster_class))\n",
    "    num_correct = num_correct + temp\n",
    "    \n",
    "print(f'Accuracy = {round(num_correct/true_labels.shape[0]*100,2)}%')"
   ]
  },
  {
   "cell_type": "code",
   "execution_count": null,
   "metadata": {},
   "outputs": [],
   "source": []
  }
 ],
 "metadata": {
  "kernelspec": {
   "display_name": "Python 3 (ipykernel)",
   "language": "python",
   "name": "python3"
  },
  "language_info": {
   "codemirror_mode": {
    "name": "ipython",
    "version": 3
   },
   "file_extension": ".py",
   "mimetype": "text/x-python",
   "name": "python",
   "nbconvert_exporter": "python",
   "pygments_lexer": "ipython3",
   "version": "3.9.12"
  }
 },
 "nbformat": 4,
 "nbformat_minor": 4
}
